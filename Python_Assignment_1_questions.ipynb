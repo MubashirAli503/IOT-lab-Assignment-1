{
  "nbformat": 4,
  "nbformat_minor": 0,
  "metadata": {
    "colab": {
      "name": "Python Assignment #1 questions.ipynb",
      "provenance": [],
      "collapsed_sections": []
    },
    "kernelspec": {
      "name": "python3",
      "display_name": "Python 3"
    },
    "language_info": {
      "name": "python"
    }
  },
  "cells": [
    {
      "cell_type": "code",
      "execution_count": null,
      "metadata": {
        "colab": {
          "base_uri": "https://localhost:8080/"
        },
        "id": "6UNxVy-cNEgv",
        "outputId": "513210b8-b97b-4020-a6e2-c765d8f3b58a"
      },
      "outputs": [
        {
          "output_type": "stream",
          "name": "stdout",
          "text": [
            "Enter a number: 234\n",
            "Reversed integer: 432\n"
          ]
        }
      ],
      "source": [
        "#PYTHON CODING QUESTIONS \n",
        "#Q1\n",
        "n= int(input('Enter a number: '))\n",
        "reversed = int(str(n)[::-1])\n",
        "print(\"Reversed integer:\",reversed)\n"
      ]
    },
    {
      "cell_type": "code",
      "source": [
        "#Q2\n",
        "a = []\n",
        "b = input('Enter a number: ')\n",
        "for i in b:\n",
        "  a.append(i)\n",
        "print(a)\n",
        "c=[]\n",
        "for j in range(len(a)):\n",
        "  c.append(int(a[j]))\n",
        "print(c)\n",
        "d=[]\n",
        "for k in range(len(c)):\n",
        "  d.append(c[k]**3)\n",
        "print(d)\n",
        "sum=0\n",
        "for l in range(len(d)):\n",
        "  sum+=d[l]\n",
        "print (sum)\n",
        "if sum==int(b):\n",
        "  print(a,\"is an Armstrong number \")\n",
        "else:\n",
        "  print(a,\"is not an Armstrong number\")\n"
      ],
      "metadata": {
        "colab": {
          "base_uri": "https://localhost:8080/"
        },
        "id": "gFT335b0VOCG",
        "outputId": "54a06f14-509e-4096-fdf0-b391ebe2e394"
      },
      "execution_count": null,
      "outputs": [
        {
          "output_type": "stream",
          "name": "stdout",
          "text": [
            "Enter a number: 69\n",
            "['6', '9']\n",
            "[6, 9]\n",
            "[216, 729]\n",
            "945\n",
            "['6', '9'] Not an Armstrong number\n"
          ]
        }
      ]
    },
    {
      "cell_type": "code",
      "source": [
        "#Q3\n",
        "num= int(input('Enter a number : '))\n",
        "# If given number is greater than 1\n",
        "if num > 1:\n",
        "    # Iterate from 2 to n / 2\n",
        "    for i in range(2, num):\n",
        "        # If num is divisible by any number between\n",
        "        # 2 and num, it is not prime\n",
        "        if (num % i) == 0:\n",
        "            print(num, \"is not a prime number\")\n",
        "            break\n",
        "    else:\n",
        "        print(num, \"is a prime number\")\n",
        "else:\n",
        "    print(num, \"is not a prime number\")"
      ],
      "metadata": {
        "colab": {
          "base_uri": "https://localhost:8080/"
        },
        "id": "VM5RE2nsdvDu",
        "outputId": "081bfbc4-49db-4a5a-fe69-b9a2129f74a6"
      },
      "execution_count": null,
      "outputs": [
        {
          "output_type": "stream",
          "name": "stdout",
          "text": [
            "Enter a number : 4\n",
            "4 is not a prime number\n"
          ]
        }
      ]
    },
    {
      "cell_type": "code",
      "source": [
        "#Q4\n",
        "first=0\n",
        "second=1\n",
        "n = int(input(\"please give a number for fibonacci series : \"))\n",
        "print(\"fibonacci series are : \")\n",
        "for i in range(0,n):\n",
        "    if i<=1:\n",
        "        result=i\n",
        "    else:\n",
        "      result = first + second;\n",
        "      first = second;\n",
        "      second = result;\n",
        "    print(result)"
      ],
      "metadata": {
        "id": "lhKUpTodCJMW",
        "colab": {
          "base_uri": "https://localhost:8080/"
        },
        "outputId": "7d1e5bbe-5c40-4c74-c6b9-b4fddf43f7cd"
      },
      "execution_count": null,
      "outputs": [
        {
          "output_type": "stream",
          "name": "stdout",
          "text": [
            "please give a number for fibonacci series : 5\n",
            "fibonacci series are : \n",
            "0\n",
            "1\n",
            "1\n",
            "2\n",
            "3\n"
          ]
        }
      ]
    },
    {
      "cell_type": "code",
      "source": [
        "#Q5\n",
        "p = list(input(\"Eneter a String: \"))\n",
        "for i in range(len(p)):\n",
        "  if p[i] == p[len(p)-1-i]:\n",
        "    print(\"PALINDROME\")\n",
        "    break\n",
        "  else:\n",
        "    print(\"NOT PALINDROME\")\n",
        "    break\n",
        " "
      ],
      "metadata": {
        "id": "Xz5sR_NcLE2O",
        "colab": {
          "base_uri": "https://localhost:8080/"
        },
        "outputId": "9c774645-5abd-41fa-f888-1a0375dde466"
      },
      "execution_count": 7,
      "outputs": [
        {
          "output_type": "stream",
          "name": "stdout",
          "text": [
            "Eneter a String: mom\n",
            "PALINDROME\n"
          ]
        }
      ]
    },
    {
      "cell_type": "code",
      "source": [
        "#Q6\n",
        "fn = int(input(\"Enter any number: \"))\n",
        "mn = int(input(\"Enter any number: \"))\n",
        "ln = int(input(\"Enter any number: \"))\n",
        "if fn > mn and fn > ln:\n",
        "  print(fn, \"is greater among\", mn ,\"and\",ln) \n",
        "if mn > fn and mn > ln:\n",
        "  print(mn, \"is greater among\", fn ,\"and\",ln) \n",
        "if ln > mn and ln > fn:\n",
        "  print(ln, \"is greater among\", fn ,\"and\",mn)"
      ],
      "metadata": {
        "colab": {
          "base_uri": "https://localhost:8080/"
        },
        "id": "qBU0CiT8ggYx",
        "outputId": "5f112f52-4168-496d-c301-ceec50b0c5ae"
      },
      "execution_count": 1,
      "outputs": [
        {
          "output_type": "stream",
          "name": "stdout",
          "text": [
            "Enter any number: 5\n",
            "Enter any number: 6\n",
            "Enter any number: 7\n",
            "7 is greater among 5 and 6\n"
          ]
        }
      ]
    },
    {
      "cell_type": "code",
      "source": [
        "#Q7\n",
        "number = input(\"Enter any number:\")\n",
        "p = set(number)\n",
        "s = {'1','0'}\n",
        "if s == p or p == {'0'} or p == {'1'}:\n",
        "  print(\"Your given number is binary.\")\n",
        "else:\n",
        "  print(\"Your given number is not binary.\")"
      ],
      "metadata": {
        "colab": {
          "base_uri": "https://localhost:8080/"
        },
        "id": "6QvKZ4XDgxul",
        "outputId": "f4698e80-7be0-4b5a-c4aa-ea4dbd2e01ed"
      },
      "execution_count": 8,
      "outputs": [
        {
          "output_type": "stream",
          "name": "stdout",
          "text": [
            "Enter any number:68\n",
            "Your given number is not binary.\n"
          ]
        }
      ]
    },
    {
      "cell_type": "code",
      "source": [
        "#Q8\n",
        "numbers = int(input(\"Enter quantity of numbers: \"))\n",
        "lst = list()\n",
        "for i in range(0, numbers):\n",
        "  elements = int(input())\n",
        "  lst.append(elements)\n",
        "print(\"\\nThe Average of your given numbers are: \",sum(lst))"
      ],
      "metadata": {
        "colab": {
          "base_uri": "https://localhost:8080/"
        },
        "id": "i1ovGgEmhwhT",
        "outputId": "31905088-62d6-4b6f-b3bc-199c5c98e4d9"
      },
      "execution_count": 9,
      "outputs": [
        {
          "output_type": "stream",
          "name": "stdout",
          "text": [
            "Enter quantity of numbers: 2\n",
            "4\n",
            "6\n",
            "\n",
            "The Average of your given numbers are:  10\n"
          ]
        }
      ]
    },
    {
      "cell_type": "code",
      "source": [
        "#Q9\n",
        "x = input(\"Enter value of x: \")\n",
        "y = input(\"Enter value of y: \")\n",
        "print(\"\\nBefore Swapping\")\n",
        "print(\"Value of x:\", x , \"and\" , \"y:\", y)\n",
        "x , y = y , x\n",
        "print(\"\\nAfter Swapping\")\n",
        "print(\"Value of x:\", x , \"and\" , \"y:\", y)"
      ],
      "metadata": {
        "colab": {
          "base_uri": "https://localhost:8080/"
        },
        "id": "O52uSTvhiwpu",
        "outputId": "71f9cba4-f330-4583-b752-d9ed1573f87c"
      },
      "execution_count": 10,
      "outputs": [
        {
          "output_type": "stream",
          "name": "stdout",
          "text": [
            "Enter value of x: 2\n",
            "Enter value of y: 4\n",
            "\n",
            "Before Swapping\n",
            "Value of x: 2 and y: 4\n",
            "\n",
            "After Swapping\n",
            "Value of x: 4 and y: 2\n"
          ]
        }
      ]
    },
    {
      "cell_type": "code",
      "source": [
        "#Q10\n",
        "x = input(\"Enter value of x: \")\n",
        "y = input(\"Enter value of y: \")\n",
        "print(\"\\nBefore Swapping\")\n",
        "print(\"Value of x:\", x , \"and\" , \"y:\", y)\n",
        "temp = x\n",
        "x = y\n",
        "y = temp\n",
        "print(\"\\nAfter Swapping\")\n",
        "print(\"Value of x:\", x , \"and\" , \"y:\", temp)"
      ],
      "metadata": {
        "colab": {
          "base_uri": "https://localhost:8080/"
        },
        "id": "XEuz0G6KjB-w",
        "outputId": "f068d640-f4c9-40a4-dda2-dab24f836d1c"
      },
      "execution_count": 13,
      "outputs": [
        {
          "output_type": "stream",
          "name": "stdout",
          "text": [
            "Enter value of x: 10\n",
            "Enter value of y: 9\n",
            "\n",
            "Before Swapping\n",
            "Value of x: 10 and y: 9\n",
            "\n",
            "After Swapping\n",
            "Value of x: 9 and y: 10\n"
          ]
        }
      ]
    },
    {
      "cell_type": "code",
      "source": [
        "#Q11\n",
        "numbers = int(input(\"Enter quantity of numbers: \"))\n",
        "lst = list()\n",
        "for i in range(0, numbers):\n",
        "  elements = int(input())\n",
        "  lst.append(elements)\n",
        "print(\"\\nThe Average of your given numbers are: \",sum(lst) / int(numbers))"
      ],
      "metadata": {
        "colab": {
          "base_uri": "https://localhost:8080/"
        },
        "id": "_DDkMH-ijOP2",
        "outputId": "345c4f91-df65-4288-81cd-18a9279e8fd2"
      },
      "execution_count": 14,
      "outputs": [
        {
          "output_type": "stream",
          "name": "stdout",
          "text": [
            "Enter quantity of numbers: 3\n",
            "1\n",
            "2\n",
            "3\n",
            "\n",
            "The Average of your given numbers are:  2.0\n"
          ]
        }
      ]
    },
    {
      "cell_type": "code",
      "source": [
        "#Q12\n",
        "number = int(input(\"Enter a number: \"))\n",
        "factorial = 1\n",
        "if number < 0:\n",
        "   print(\"Sorry, factorial does not exist for negative numbers\")\n",
        "elif number == 0:\n",
        "   print(\"The factorial of 0 is 1\")\n",
        "else:\n",
        "   for i in range(1,number + 1):\n",
        "       factorial = factorial*i\n",
        "   print(\"The factorial of\",number,\"is\",factorial)"
      ],
      "metadata": {
        "colab": {
          "base_uri": "https://localhost:8080/"
        },
        "id": "05pCytQglAZY",
        "outputId": "b06c549a-5879-4a82-d4fc-e25aa0f04455"
      },
      "execution_count": 16,
      "outputs": [
        {
          "output_type": "stream",
          "name": "stdout",
          "text": [
            "Enter a number: 24\n",
            "The factorial of 24 is 620448401733239439360000\n"
          ]
        }
      ]
    },
    {
      "cell_type": "code",
      "source": [
        "#Q13\n",
        "number = int(input(\"Enter a number: \"))\n",
        "factorial = 1\n",
        "if number < 0:\n",
        "   print(\"Sorry, factorial does not exist for negative numbers\")\n",
        "elif number == 0:\n",
        "   print(\"The factorial of 0 is 1\")\n",
        "else:\n",
        "   for i in range(1,number + 1):\n",
        "       factorial = factorial*i\n",
        "   print(\"The factorial of\",number,\"is\",factorial)"
      ],
      "metadata": {
        "colab": {
          "base_uri": "https://localhost:8080/"
        },
        "id": "XGuJSNWxlRex",
        "outputId": "4ec8e452-ef1f-4d1b-f590-c0528f568159"
      },
      "execution_count": 17,
      "outputs": [
        {
          "output_type": "stream",
          "name": "stdout",
          "text": [
            "Enter a number: 5\n",
            "The factorial of 5 is 120\n"
          ]
        }
      ]
    },
    {
      "cell_type": "code",
      "source": [
        "#Q14\n",
        "user_input = int(input(\"Enter a number to check even or odd: \"))\n",
        "if(user_input %2 == 0):\n",
        "  print(user_input, \"is a even number.\")\n",
        "elif(user_input %2 != 0):\n",
        "  print(user_input, \"is a odd number.\")\n",
        "else:\n",
        "  print(\"Please, Enter Correct Value.\")"
      ],
      "metadata": {
        "colab": {
          "base_uri": "https://localhost:8080/"
        },
        "id": "sIm9Iu7hmTid",
        "outputId": "8adaf9f0-8ae1-4c87-851b-fe6e76d6945c"
      },
      "execution_count": 18,
      "outputs": [
        {
          "output_type": "stream",
          "name": "stdout",
          "text": [
            "Enter a number to check even or odd: 68\n",
            "68 is a even number.\n"
          ]
        }
      ]
    },
    {
      "cell_type": "code",
      "source": [
        "#Q15\n",
        "numr=int(input(\"Enter range of prime numbers: \"))\n",
        "print(\"Prime numbers:\",end=' ')\n",
        "for n in range(1,numr):\n",
        "    for i in range(2,n):\n",
        "        if(n%i==0):\n",
        "            break\n",
        "    else:\n",
        "        print(n,end=' ')"
      ],
      "metadata": {
        "colab": {
          "base_uri": "https://localhost:8080/"
        },
        "id": "GnUmB3pNmgos",
        "outputId": "7638827b-74cf-40e6-8512-706de2bb07b1"
      },
      "execution_count": 21,
      "outputs": [
        {
          "output_type": "stream",
          "name": "stdout",
          "text": [
            "Enter range of prime numbers: 5\n",
            "Prime numbers: 1 2 3 "
          ]
        }
      ]
    },
    {
      "cell_type": "code",
      "source": [
        "#Q16\n",
        "lower_value = int(input (\"Please, Enter the Lowest Range Value: \"))  \n",
        "upper_value = int(input (\"Please, Enter the Upper Range Value: \"))  \n",
        "print (\"The Prime Numbers in the range are: \") \n",
        "for number in range (lower_value, upper_value + 1):  \n",
        "    if number > 1:\n",
        "        for i in range (2, number):  \n",
        "            if (number % i) == 0:  \n",
        "                break  \n",
        "        else:  \n",
        "            print (number)"
      ],
      "metadata": {
        "colab": {
          "base_uri": "https://localhost:8080/"
        },
        "id": "DOAE9ncCnHyD",
        "outputId": "14639da6-70ae-4f73-e024-302b9e4d931e"
      },
      "execution_count": 22,
      "outputs": [
        {
          "output_type": "stream",
          "name": "stdout",
          "text": [
            "Please, Enter the Lowest Range Value: 5\n",
            "Please, Enter the Upper Range Value: 16\n",
            "The Prime Numbers in the range are: \n",
            "5\n",
            "7\n",
            "11\n",
            "13\n"
          ]
        }
      ]
    },
    {
      "cell_type": "code",
      "source": [
        "#Q17\n",
        "fn = int(input(\"Enter any number: \"))\n",
        "mn = int(input(\"Enter any number: \"))\n",
        "ln = int(input(\"Enter any number: \"))\n",
        "if fn < mn and fn < ln:\n",
        "  print(fn, \"is smallest among\", mn ,\"and\",ln) \n",
        "if mn < fn and mn < ln:\n",
        "  print(mn, \"is smallest among\", fn ,\"and\",ln) \n",
        "if ln < mn and ln < fn:\n",
        "  print(ln, \"is smallest among\", fn ,\"and\",mn)"
      ],
      "metadata": {
        "colab": {
          "base_uri": "https://localhost:8080/"
        },
        "id": "TmybrguwngLx",
        "outputId": "33a03771-f891-4dc7-e62f-8da2a9dec561"
      },
      "execution_count": 23,
      "outputs": [
        {
          "output_type": "stream",
          "name": "stdout",
          "text": [
            "Enter any number: 5\n",
            "Enter any number: 2\n",
            "Enter any number: 9\n",
            "2 is smallest among 5 and 9\n"
          ]
        }
      ]
    },
    {
      "cell_type": "code",
      "source": [
        "#Q18\n",
        "import math\n",
        "base = int(input(\"Enter the value for base: \"))\n",
        "exponent = int(input(\"Enter the value for exponent: \"))\n",
        "print(base ,\"to power\" , exponent , \"is\" ,pow(base,exponent))"
      ],
      "metadata": {
        "colab": {
          "base_uri": "https://localhost:8080/"
        },
        "id": "8OEjRtGanxZA",
        "outputId": "bc9f4106-221a-4500-bf0f-f55352414465"
      },
      "execution_count": 24,
      "outputs": [
        {
          "output_type": "stream",
          "name": "stdout",
          "text": [
            "Enter the value for base: 4\n",
            "Enter the value for exponent: 7\n",
            "4 to power 7 is 16384\n"
          ]
        }
      ]
    },
    {
      "cell_type": "code",
      "source": [
        "#Q19\n",
        "import math \n",
        "number = int(input(\"Enter the value for base: \"))\n",
        "print(\"Square to\" , number , \"is\" , pow(number,2))"
      ],
      "metadata": {
        "colab": {
          "base_uri": "https://localhost:8080/"
        },
        "id": "unWTr20coOvM",
        "outputId": "88bba564-7eee-44dd-c4af-73999b4a9d10"
      },
      "execution_count": 25,
      "outputs": [
        {
          "output_type": "stream",
          "name": "stdout",
          "text": [
            "Enter the value for base: 6\n",
            "Square to 6 is 36\n"
          ]
        }
      ]
    },
    {
      "cell_type": "code",
      "source": [
        "#Q20\n",
        "import math \n",
        "number = int(input(\"Enter the value for base: \"))\n",
        "print(\"Cube to\" , number , \"is\" , pow(number,3))"
      ],
      "metadata": {
        "colab": {
          "base_uri": "https://localhost:8080/"
        },
        "id": "Ekei2rAgodWe",
        "outputId": "6b993d18-d913-466d-cf61-a21dfb12729f"
      },
      "execution_count": 26,
      "outputs": [
        {
          "output_type": "stream",
          "name": "stdout",
          "text": [
            "Enter the value for base: 3\n",
            "Cube to 3 is 27\n"
          ]
        }
      ]
    },
    {
      "cell_type": "code",
      "source": [
        "#Q21\n",
        "import math \n",
        "number = int(input(\"Enter the value for base: \"))\n",
        "print(\"Square root to\" , number , \"is\" , int(math.sqrt(number)))"
      ],
      "metadata": {
        "colab": {
          "base_uri": "https://localhost:8080/"
        },
        "id": "I7pg9TwEoqnJ",
        "outputId": "b6c1aa88-76cb-43b8-e675-492b3872f3da"
      },
      "execution_count": 33,
      "outputs": [
        {
          "output_type": "stream",
          "name": "stdout",
          "text": [
            "Enter the value for base: 36\n",
            "Square root to 36 is 6\n"
          ]
        }
      ]
    },
    {
      "cell_type": "code",
      "source": [
        "#Q22\n",
        "def decimalToBinary(n):\n",
        "    return bin(n).replace(\"0b\", \"\")\n",
        "\n",
        "number = int(input(\"Enter decimal number: \"))\n",
        "\n",
        "print(\"Binary to\", number , \"is\", decimalToBinary(number))"
      ],
      "metadata": {
        "colab": {
          "base_uri": "https://localhost:8080/"
        },
        "id": "jQeMogQWoxVF",
        "outputId": "fc11cded-6a7e-4ef9-d79c-c909dee20c33"
      },
      "execution_count": 35,
      "outputs": [
        {
          "output_type": "stream",
          "name": "stdout",
          "text": [
            "Enter decimal number: 4\n",
            "Binary to 4 is 100\n"
          ]
        }
      ]
    },
    {
      "cell_type": "code",
      "source": [
        "#Q23\n",
        "number = int(input(\"Enter decimal number: \"))\n",
        "\n",
        "print(\"Octal to\", number , \"is\", oct(number))"
      ],
      "metadata": {
        "colab": {
          "base_uri": "https://localhost:8080/"
        },
        "id": "HH6a1MXoozot",
        "outputId": "7e14dab8-42a7-46f0-dbd9-9c451e6d7b7b"
      },
      "execution_count": 34,
      "outputs": [
        {
          "output_type": "stream",
          "name": "stdout",
          "text": [
            "Enter decimal number: 15\n",
            "Octal to 15 is 0o17\n"
          ]
        }
      ]
    },
    {
      "cell_type": "code",
      "source": [
        "#Q24\n",
        "year = int(input(\"Enter a year: \"))\n",
        "if((year % 400 == 0) or (year % 100 != 0) and  (year % 4 == 0)):   \n",
        "    print(\"Year\", year ,\"is a leap Year\");  \n",
        "  # Else it is not a leap year  \n",
        "else:  \n",
        "    print (\"Year\", year ,\"is not a leap Year\")"
      ],
      "metadata": {
        "colab": {
          "base_uri": "https://localhost:8080/"
        },
        "id": "TfYuyr_go1zE",
        "outputId": "78555eaf-d43d-4855-f625-a718eadacaf9"
      },
      "execution_count": 29,
      "outputs": [
        {
          "output_type": "stream",
          "name": "stdout",
          "text": [
            "Enter a year: 2025\n",
            "Year 2025 is not a leap Year\n"
          ]
        }
      ]
    },
    {
      "cell_type": "code",
      "source": [
        "#Q25\n",
        "temp = float(input(\"Enter temperature value in celcius: \"))\n",
        "fahrenheit = (temp * 1.8) + 32\n",
        "print(temp, \"celcius is equivalent to\", fahrenheit, \"fahrenheit.\")"
      ],
      "metadata": {
        "colab": {
          "base_uri": "https://localhost:8080/"
        },
        "id": "jCbawo2Po4a9",
        "outputId": "506473a6-b526-4940-f0d4-c1a7e7034e6e"
      },
      "execution_count": 30,
      "outputs": [
        {
          "output_type": "stream",
          "name": "stdout",
          "text": [
            "Enter temperature value in celcius: 96\n",
            "96.0 celcius is equivalent to 204.8 fahrenheit.\n"
          ]
        }
      ]
    },
    {
      "cell_type": "code",
      "source": [
        "#Q26\n",
        "temp = float(input(\"Enter temperature value in fahrenheit: \"))\n",
        "celsius = (temp - 32) * 5/9\n",
        "print(temp, \"fahrenheit is equivalent to\", celsius, \"celsius.\")"
      ],
      "metadata": {
        "colab": {
          "base_uri": "https://localhost:8080/"
        },
        "id": "1kYZrJz4o7jU",
        "outputId": "f3cf76b4-3424-4dbd-d3df-c3221c13e3ac"
      },
      "execution_count": 31,
      "outputs": [
        {
          "output_type": "stream",
          "name": "stdout",
          "text": [
            "Enter temperature value in fahrenheit: 32\n",
            "32.0 fahrenheit is equivalent to 0.0 celsius.\n"
          ]
        }
      ]
    },
    {
      "cell_type": "markdown",
      "source": [
        "# New Section"
      ],
      "metadata": {
        "id": "1pwLMZX2n0r5"
      }
    },
    {
      "cell_type": "markdown",
      "source": [
        "# New Section"
      ],
      "metadata": {
        "id": "ZJSnaIAQn1HZ"
      }
    }
  ]
}